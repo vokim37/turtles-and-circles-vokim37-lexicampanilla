{
 "cells": [
  {
   "cell_type": "markdown",
   "metadata": {},
   "source": [
    "Name: Kim Vo, Alexandra Campanilla"
   ]
  },
  {
   "cell_type": "code",
   "execution_count": 1,
   "metadata": {
    "collapsed": true
   },
   "outputs": [],
   "source": [
    "# Draw a pentagon\n",
    "\n",
    "import turtle\n",
    "wn = turtle.Screen()\n",
    "alex = turtle.Turtle()\n",
    "alex.forward(100)\n",
    "i = 1\n",
    "while i < 5:\n",
    "    alex.left(72)\n",
    "    alex.forward(100)\n",
    "    i += 1\n",
    "\n",
    "wn.exitonclick()"
   ]
  },
  {
   "cell_type": "code",
   "execution_count": null,
   "metadata": {
    "scrolled": true
   },
   "outputs": [
    {
     "name": "stderr",
     "output_type": "stream",
     "text": [
      "canvas2svg warning: Items of type 'image' are not supported.\n"
     ]
    }
   ],
   "source": [
    "# Extra Credit Challenge\n",
    "# draw a closed shape with any given number of sides\n",
    "\n",
    "import turtle\n",
    "wn = turtle.Screen()\n",
    "pen = turtle.Turtle()\n",
    "\n",
    "# modify for number of sides\n",
    "numSides = 15.1\n",
    "\n",
    "#set angle to draw\n",
    "n = int(numSides)\n",
    "angle = float(360)/n\n",
    "\n",
    "pen.forward(80)\n",
    "i = 1\n",
    "while i < n:\n",
    "    pen.left(angle)\n",
    "    pen.forward(80)\n",
    "    i += 1\n",
    "\n",
    "wn.exitonclick()"
   ]
  },
  {
   "cell_type": "code",
   "execution_count": null,
   "metadata": {},
   "outputs": [
    {
     "name": "stderr",
     "output_type": "stream",
     "text": [
      "canvas2svg warning: Items of type 'image' are not supported.\n"
     ]
    }
   ],
   "source": [
    "# draw a star\n",
    "import sys\n",
    "sys.path.append('C:\\\\Users\\\\vokim\\\\Documents\\\\canvas2svg')\n",
    "import canvasvg\n",
    "import turtle\n",
    "wn = turtle.Screen()\n",
    "star = turtle.Turtle()\n",
    "\n",
    "star.color(\"#ac90c6\")\n",
    "star.left(108)\n",
    "star.forward(200)\n",
    "for x in range(4):\n",
    "    star.left(144)\n",
    "    star.forward(200)\n",
    "\n",
    "my_canv = wn.getcanvas()\n",
    "canvasvg.saveall(\"U:\\\\KimVo_AlexandraCampanilla.svg\", my_canv)\n",
    "wn.exitonclick()"
   ]
  },
  {
   "cell_type": "code",
   "execution_count": null,
   "metadata": {
    "collapsed": true
   },
   "outputs": [],
   "source": []
  }
 ],
 "metadata": {
  "kernelspec": {
   "display_name": "Python 2",
   "language": "python",
   "name": "python2"
  },
  "language_info": {
   "codemirror_mode": {
    "name": "ipython",
    "version": 2
   },
   "file_extension": ".py",
   "mimetype": "text/x-python",
   "name": "python",
   "nbconvert_exporter": "python",
   "pygments_lexer": "ipython2",
   "version": "2.7.13"
  }
 },
 "nbformat": 4,
 "nbformat_minor": 2
}
